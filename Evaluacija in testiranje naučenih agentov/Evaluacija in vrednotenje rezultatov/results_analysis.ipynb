{
 "cells": [
  {
   "cell_type": "code",
   "execution_count": 24,
   "metadata": {},
   "outputs": [],
   "source": [
    "total_attempts = 50"
   ]
  },
  {
   "cell_type": "code",
   "execution_count": 25,
   "metadata": {},
   "outputs": [],
   "source": [
    "no_of_epochs_first = []\n",
    "no_of_epochs_stable = []"
   ]
  },
  {
   "cell_type": "code",
   "execution_count": 26,
   "metadata": {},
   "outputs": [],
   "source": [
    "import math\n",
    "\n",
    "\n",
    "def to_stats(epochs):\n",
    "    iters = 8000 * epochs\n",
    "    secs = iters / 25\n",
    "    mins = math.floor(secs / 60)\n",
    "    secs = round(secs - mins * 60)\n",
    "    return (iters, (mins, secs))"
   ]
  },
  {
   "cell_type": "code",
   "execution_count": 27,
   "metadata": {},
   "outputs": [],
   "source": [
    "with open('obstacle_run_1.txt') as f:\n",
    "    for line in f:\n",
    "        if line.startswith('The first success came after '):\n",
    "            tokens = line.split()\n",
    "            no_of_epochs_first.append(int(tokens[5]))    \n",
    "        if line.startswith('It took us '):\n",
    "            tokens = line.split()\n",
    "            no_of_epochs_stable.append(int(tokens[3]))  "
   ]
  },
  {
   "cell_type": "code",
   "execution_count": 28,
   "metadata": {},
   "outputs": [],
   "source": [
    "if len(no_of_epochs_first) > 0:\n",
    "    mean_epoch_first = sum(no_of_epochs_first) / len(no_of_epochs_first)\n",
    "    min_epoch_first = min(no_of_epochs_first)\n",
    "    max_epoch_first = max(no_of_epochs_first)\n",
    "    no_of_failed_attempts_first = total_attempts - len(no_of_epochs_first)"
   ]
  },
  {
   "cell_type": "code",
   "execution_count": 29,
   "metadata": {},
   "outputs": [
    {
     "name": "stdout",
     "output_type": "stream",
     "text": [
      "The average number of epochs for policy is 9.95, which means 79600.0 iterations and 53 minutes and 4 seconds.\n",
      "The minimum number of epochs for policy is 5, which means 40000 iterations and 26 minutes and 40 seconds.\n",
      "The maximum number of epochs for policy is 31, which means 248000 iterations and 165 minutes and 20 seconds.\n",
      "The number of failed attampts is 30.\n"
     ]
    }
   ],
   "source": [
    "if len(no_of_epochs_first) > 0:\n",
    "    mean_stats = to_stats(mean_epoch_first)\n",
    "    min_stats = to_stats(min_epoch_first)\n",
    "    max_stats = to_stats(max_epoch_first)\n",
    "    print(f'The average number of epochs for policy is {mean_epoch_first}, which means {mean_stats[0]} iterations and {mean_stats[1][0]} minutes and {mean_stats[1][1]} seconds.')\n",
    "    print(f'The minimum number of epochs for policy is {min_epoch_first}, which means {min_stats[0]} iterations and {min_stats[1][0]} minutes and {min_stats[1][1]} seconds.')\n",
    "    print(f'The maximum number of epochs for policy is {max_epoch_first}, which means {max_stats[0]} iterations and {max_stats[1][0]} minutes and {max_stats[1][1]} seconds.')\n",
    "    print(f'The number of failed attampts is {no_of_failed_attempts_first}.')"
   ]
  },
  {
   "cell_type": "code",
   "execution_count": 30,
   "metadata": {},
   "outputs": [],
   "source": [
    "if len(no_of_epochs_stable) > 0:\n",
    "    mean_epoch_stable = sum(no_of_epochs_stable) / len(no_of_epochs_stable)\n",
    "    min_epoch_stable = min(no_of_epochs_stable)\n",
    "    max_epoch_stable = max(no_of_epochs_stable)\n",
    "    no_of_failed_attempts_stable = total_attempts - len(no_of_epochs_stable)"
   ]
  },
  {
   "cell_type": "code",
   "execution_count": 31,
   "metadata": {},
   "outputs": [
    {
     "name": "stdout",
     "output_type": "stream",
     "text": [
      "The average number of epochs for a stable policy is 17.11111111111111, which means 136888.88888888888 iterations and 91 minutes and 16 seconds.\n",
      "The minimum number of epochs for a stable policy is 11, which means 88000 iterations and 58 minutes and 40 seconds.\n",
      "The maximum number of epochs for a stable policy is 53, which means 424000 iterations and 282 minutes and 40 seconds.\n",
      "The number of failed attampts to stabilize is 32.\n"
     ]
    }
   ],
   "source": [
    "if len(no_of_epochs_stable) > 0:\n",
    "    mean_stats = to_stats(mean_epoch_stable)\n",
    "    min_stats = to_stats(min_epoch_stable)\n",
    "    max_stats = to_stats(max_epoch_stable)\n",
    "    print(f'The average number of epochs for a stable policy is {mean_epoch_stable}, which means {mean_stats[0]} iterations and {mean_stats[1][0]} minutes and {mean_stats[1][1]} seconds.')\n",
    "    print(f'The minimum number of epochs for a stable policy is {min_epoch_stable}, which means {min_stats[0]} iterations and {min_stats[1][0]} minutes and {min_stats[1][1]} seconds.')\n",
    "    print(f'The maximum number of epochs for a stable policy is {max_epoch_stable}, which means {max_stats[0]} iterations and {max_stats[1][0]} minutes and {max_stats[1][1]} seconds.')\n",
    "    print(f'The number of failed attampts to stabilize is {no_of_failed_attempts_stable}.')"
   ]
  },
  {
   "cell_type": "code",
   "execution_count": 17,
   "metadata": {},
   "outputs": [
    {
     "data": {
      "text/plain": [
       "[8, 14, 6, 7, 9, 8, 10, 8, 7, 31, 11, 5, 10, 9, 8, 10, 8, 8, 8, 14]"
      ]
     },
     "execution_count": 17,
     "metadata": {},
     "output_type": "execute_result"
    }
   ],
   "source": [
    "no_of_epochs_first"
   ]
  },
  {
   "cell_type": "code",
   "execution_count": 18,
   "metadata": {},
   "outputs": [
    {
     "data": {
      "text/plain": [
       "[13, 18, 12, 11, 15, 14, 14, 18, 12, 53, 17, 14, 17, 20, 11, 19, 18, 12]"
      ]
     },
     "execution_count": 18,
     "metadata": {},
     "output_type": "execute_result"
    }
   ],
   "source": [
    "no_of_epochs_stable"
   ]
  }
 ],
 "metadata": {
  "kernelspec": {
   "display_name": "diplomska",
   "language": "python",
   "name": "diplomska"
  },
  "language_info": {
   "codemirror_mode": {
    "name": "ipython",
    "version": 3
   },
   "file_extension": ".py",
   "mimetype": "text/x-python",
   "name": "python",
   "nbconvert_exporter": "python",
   "pygments_lexer": "ipython3",
   "version": "3.8.3"
  }
 },
 "nbformat": 4,
 "nbformat_minor": 4
}
