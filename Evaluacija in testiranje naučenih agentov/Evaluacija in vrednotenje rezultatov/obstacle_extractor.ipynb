{
 "cells": [
  {
   "cell_type": "code",
   "execution_count": 9,
   "metadata": {},
   "outputs": [],
   "source": [
    "import numpy as np"
   ]
  },
  {
   "cell_type": "code",
   "execution_count": 10,
   "metadata": {},
   "outputs": [],
   "source": [
    "a = []"
   ]
  },
  {
   "cell_type": "code",
   "execution_count": 11,
   "metadata": {},
   "outputs": [],
   "source": [
    "with open('mountain_eval_1.txt') as f:\n",
    "    for line in f:\n",
    "        if line.startswith('Episode'):\n",
    "            tokens = line.split()\n",
    "            a.append(float(tokens[3]))"
   ]
  },
  {
   "cell_type": "code",
   "execution_count": 12,
   "metadata": {},
   "outputs": [],
   "source": [
    "a = np.reshape(a, newshape=(-1, 100))"
   ]
  },
  {
   "cell_type": "code",
   "execution_count": 13,
   "metadata": {},
   "outputs": [],
   "source": [
    "b = []\n",
    "for c in a:\n",
    "    b.append(np.mean(c[c > -0.5]))"
   ]
  },
  {
   "cell_type": "code",
   "execution_count": 14,
   "metadata": {},
   "outputs": [
    {
     "name": "stdout",
     "output_type": "stream",
     "text": [
      "-0.3482820512820513\n",
      "174.14102564102566\n",
      "6.965641025641027\n"
     ]
    }
   ],
   "source": [
    "print(np.min(b))\n",
    "print(-np.min(b) / 0.002)\n",
    "print((-np.min(b) / 0.002) / 25)"
   ]
  },
  {
   "cell_type": "code",
   "execution_count": 15,
   "metadata": {},
   "outputs": [
    {
     "name": "stdout",
     "output_type": "stream",
     "text": [
      "-0.26723684210526316\n",
      "133.6184210526316\n",
      "5.344736842105264\n"
     ]
    }
   ],
   "source": [
    "print(np.max(b))\n",
    "print(-np.max(b) / 0.002)\n",
    "print((-np.max(b) / 0.002) / 25)"
   ]
  },
  {
   "cell_type": "code",
   "execution_count": 16,
   "metadata": {},
   "outputs": [
    {
     "name": "stdout",
     "output_type": "stream",
     "text": [
      "0.018016497947694336\n",
      "9.008248973847168\n",
      "0.36032995895388675\n"
     ]
    }
   ],
   "source": [
    "print(np.std(b))\n",
    "print(np.std(b) / 0.002)\n",
    "print((np.std(b) / 0.002) / 25)"
   ]
  }
 ],
 "metadata": {
  "kernelspec": {
   "display_name": "diplomska",
   "language": "python",
   "name": "diplomska"
  },
  "language_info": {
   "codemirror_mode": {
    "name": "ipython",
    "version": 3
   },
   "file_extension": ".py",
   "mimetype": "text/x-python",
   "name": "python",
   "nbconvert_exporter": "python",
   "pygments_lexer": "ipython3",
   "version": "3.8.3"
  }
 },
 "nbformat": 4,
 "nbformat_minor": 4
}
