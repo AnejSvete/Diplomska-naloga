{
 "cells": [
  {
   "cell_type": "code",
   "execution_count": 10,
   "metadata": {},
   "outputs": [],
   "source": [
    "total_successes = 0\n",
    "successful_policies = 0\n",
    "full_return = 0\n",
    "successful_return = 0\n",
    "unsuccessful_return = 0\n",
    "count = 0\n",
    "ccount = 0\n",
    "scount = 0\n",
    "ucount = 0"
   ]
  },
  {
   "cell_type": "code",
   "execution_count": 11,
   "metadata": {},
   "outputs": [],
   "source": [
    "with open('mountain_eval_1.txt') as f:\n",
    "    for line in f:\n",
    "        if line.startswith('Episode'):\n",
    "            tokens = line.split()\n",
    "            full_return += float(tokens[3])\n",
    "            total_successes += (float(tokens[3]) > -0.5)\n",
    "            count += 1\n",
    "            if float(tokens[3]) > -0.5:\n",
    "                successful_return += float(tokens[3])\n",
    "                scount += 1\n",
    "            else:\n",
    "                unsuccessful_return += float(tokens[3])\n",
    "                ucount += 1\n",
    "        if line.startswith('|        MinEpRet |'):\n",
    "            tokens = line.split()\n",
    "            successful_policies += (float(tokens[3]) > -0.5)\n",
    "            ccount += 1"
   ]
  },
  {
   "cell_type": "code",
   "execution_count": 13,
   "metadata": {},
   "outputs": [
    {
     "name": "stdout",
     "output_type": "stream",
     "text": [
      "0.7516666666666667 % of episodes were successful.\n",
      "The averave reward was -0.4587333333333342\n",
      "The successful reward was -0.32141759053954194\n",
      "The successful length was 160.70879526977097, which means 6.428351810790839 seconds.\n",
      "The unsuccessful reward was -0.8743668903803117\n",
      "0 policies were successful.\n"
     ]
    }
   ],
   "source": [
    "print(f'{total_successes / count} % of episodes were successful.')\n",
    "print(f'The averave reward was {full_return / count}')\n",
    "print(f'The successful reward was {successful_return / scount}')\n",
    "slength = -(successful_return / scount) / 0.002\n",
    "print(f'The successful length was {slength}, which means {slength / 25} seconds.')\n",
    "print(f'The unsuccessful reward was {unsuccessful_return / ucount}')\n",
    "print(f'{round(successful_policies / ccount * 25)} policies were successful.')"
   ]
  }
 ],
 "metadata": {
  "kernelspec": {
   "display_name": "spinningup",
   "language": "python",
   "name": "spinningup"
  },
  "language_info": {
   "codemirror_mode": {
    "name": "ipython",
    "version": 3
   },
   "file_extension": ".py",
   "mimetype": "text/x-python",
   "name": "python",
   "nbconvert_exporter": "python",
   "pygments_lexer": "ipython3",
   "version": "3.6.10"
  }
 },
 "nbformat": 4,
 "nbformat_minor": 4
}
