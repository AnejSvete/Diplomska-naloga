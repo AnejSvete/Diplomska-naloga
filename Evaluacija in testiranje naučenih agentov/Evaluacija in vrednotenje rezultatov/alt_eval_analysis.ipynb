{
 "cells": [
  {
   "cell_type": "code",
   "execution_count": 24,
   "metadata": {},
   "outputs": [],
   "source": [
    "total_successes = 0\n",
    "successful_policies = 0\n",
    "full_return = 0\n",
    "unsuccessful_return = 0\n",
    "count = 0\n",
    "ccount = 0\n",
    "ucount = 0"
   ]
  },
  {
   "cell_type": "code",
   "execution_count": 25,
   "metadata": {},
   "outputs": [],
   "source": [
    "with open('alt_run_5_eval.txt') as f:\n",
    "    for line in f:\n",
    "        if line.startswith('Episode'):\n",
    "            tokens = line.split()\n",
    "            full_return += float(tokens[3])\n",
    "            total_successes += (float(tokens[5]) == 500)\n",
    "            count += 1\n",
    "            if float(tokens[5]) != 500:\n",
    "                unsuccessful_return += float(tokens[3])\n",
    "                ucount += 1\n",
    "        if line.startswith('|        MinEpRet |'):\n",
    "            tokens = line.split()\n",
    "            successful_policies += (float(tokens[3]) == 500)\n",
    "            ccount += 1"
   ]
  },
  {
   "cell_type": "code",
   "execution_count": 26,
   "metadata": {},
   "outputs": [
    {
     "name": "stdout",
     "output_type": "stream",
     "text": [
      "0.9738041002277904 % of episodes were successful.\n",
      "The averave reward was 496.25649202733484\n",
      "The unsuccessful reward was 357.10434782608695\n",
      "31 policies were successful.\n"
     ]
    }
   ],
   "source": [
    "print(f'{total_successes / count} % of episodes were successful.')\n",
    "print(f'The averave reward was {full_return / count}')\n",
    "print(f'The unsuccessful reward was {unsuccessful_return / ucount}')\n",
    "print(f'{round(successful_policies / ccount * 50)} policies were successful.')"
   ]
  }
 ],
 "metadata": {
  "kernelspec": {
   "display_name": "spinningup",
   "language": "python",
   "name": "spinningup"
  },
  "language_info": {
   "codemirror_mode": {
    "name": "ipython",
    "version": 3
   },
   "file_extension": ".py",
   "mimetype": "text/x-python",
   "name": "python",
   "nbconvert_exporter": "python",
   "pygments_lexer": "ipython3",
   "version": "3.6.10"
  }
 },
 "nbformat": 4,
 "nbformat_minor": 4
}
