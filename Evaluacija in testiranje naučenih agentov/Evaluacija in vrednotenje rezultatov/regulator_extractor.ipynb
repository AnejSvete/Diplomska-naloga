{
 "cells": [
  {
   "cell_type": "code",
   "execution_count": 1,
   "metadata": {},
   "outputs": [],
   "source": [
    "import numpy as np"
   ]
  },
  {
   "cell_type": "code",
   "execution_count": 2,
   "metadata": {},
   "outputs": [],
   "source": [
    "a = []"
   ]
  },
  {
   "cell_type": "code",
   "execution_count": 3,
   "metadata": {},
   "outputs": [],
   "source": [
    "with open('regulator_run_2_eval.txt') as f:\n",
    "    for line in f:\n",
    "        if line.startswith('Episode'):\n",
    "            tokens = line.split()\n",
    "            a.append(float(tokens[3]))"
   ]
  },
  {
   "cell_type": "code",
   "execution_count": 4,
   "metadata": {},
   "outputs": [],
   "source": [
    "a = np.reshape(a, newshape=(-1, 100))"
   ]
  },
  {
   "cell_type": "code",
   "execution_count": 5,
   "metadata": {},
   "outputs": [],
   "source": [
    "b = []\n",
    "for c in a:\n",
    "    b.append(np.mean(c[c > -0.5]))"
   ]
  },
  {
   "cell_type": "code",
   "execution_count": 6,
   "metadata": {},
   "outputs": [
    {
     "name": "stdout",
     "output_type": "stream",
     "text": [
      "-0.08236559139784946\n",
      "41.18279569892473\n",
      "0.8236559139784946\n"
     ]
    }
   ],
   "source": [
    "print(np.min(b))\n",
    "print(-np.min(b) / 0.001)\n",
    "print((-np.min(b) / 0.001) / 50)"
   ]
  },
  {
   "cell_type": "code",
   "execution_count": 7,
   "metadata": {},
   "outputs": [
    {
     "name": "stdout",
     "output_type": "stream",
     "text": [
      "-0.06785000000000001\n",
      "33.925000000000004\n",
      "0.6785000000000001\n"
     ]
    }
   ],
   "source": [
    "print(np.max(b))\n",
    "print(-np.max(b) / 0.001)\n",
    "print((-np.max(b) / 0.001) / 50)"
   ]
  },
  {
   "cell_type": "code",
   "execution_count": 8,
   "metadata": {},
   "outputs": [
    {
     "name": "stdout",
     "output_type": "stream",
     "text": [
      "0.003925976092886049\n",
      "1.9629880464430245\n",
      "0.03925976092886049\n"
     ]
    }
   ],
   "source": [
    "print(np.std(b))\n",
    "print(np.std(b) / 0.001)\n",
    "print((np.std(b) / 0.001) / 50)"
   ]
  }
 ],
 "metadata": {
  "kernelspec": {
   "display_name": "diplomska",
   "language": "python",
   "name": "diplomska"
  },
  "language_info": {
   "codemirror_mode": {
    "name": "ipython",
    "version": 3
   },
   "file_extension": ".py",
   "mimetype": "text/x-python",
   "name": "python",
   "nbconvert_exporter": "python",
   "pygments_lexer": "ipython3",
   "version": "3.8.3"
  }
 },
 "nbformat": 4,
 "nbformat_minor": 4
}
