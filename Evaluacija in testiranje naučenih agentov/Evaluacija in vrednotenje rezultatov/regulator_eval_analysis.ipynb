{
 "cells": [
  {
   "cell_type": "code",
   "execution_count": 2,
   "metadata": {},
   "outputs": [],
   "source": [
    "total_successes = 0\n",
    "successful_policies = 0\n",
    "full_return = 0\n",
    "successful_return = 0\n",
    "unsuccessful_return = 0\n",
    "count = 0\n",
    "ccount = 0\n",
    "scount = 0\n",
    "ucount = 0"
   ]
  },
  {
   "cell_type": "code",
   "execution_count": 3,
   "metadata": {},
   "outputs": [],
   "source": [
    "with open('regulator_run_2_eval.txt') as f:\n",
    "    for line in f:\n",
    "        if line.startswith('Episode'):\n",
    "            tokens = line.split()\n",
    "            full_return += float(tokens[3])\n",
    "            total_successes += (float(tokens[5]) == 500)\n",
    "            count += 1\n",
    "            if float(tokens[5]) == 500:\n",
    "                successful_return += float(tokens[3])\n",
    "                scount += 1\n",
    "            else:\n",
    "                unsuccessful_return += float(tokens[3])\n",
    "                ucount += 1\n",
    "        if line.startswith('|        MinEpRet |'):\n",
    "            tokens = line.split()\n",
    "            successful_policies += (float(tokens[3]) > -0.5)\n",
    "            ccount += 1"
   ]
  },
  {
   "cell_type": "code",
   "execution_count": 6,
   "metadata": {},
   "outputs": [
    {
     "name": "stdout",
     "output_type": "stream",
     "text": [
      "0.9950550685547314 % of episodes were successful.\n",
      "The averave reward was -0.11772982692739972\n",
      "The successful reward was -0.11536074090806443\n",
      "The successful length was 115.36074090806443, which means 2.3072148181612886 seconds.\n",
      "The unsuccessful reward was -0.5944545454545455\n",
      "26 policies were successful.\n"
     ]
    }
   ],
   "source": [
    "print(f'{total_successes / count} % of episodes were successful.')\n",
    "print(f'The averave reward was {full_return / count}')\n",
    "print(f'The successful reward was {successful_return / scount}')\n",
    "slength = -(successful_return / scount) / 0.001\n",
    "print(f'The successful length was {slength}, which means {slength / 50} seconds.')\n",
    "print(f'The unsuccessful reward was {unsuccessful_return / ucount}')\n",
    "print(f'{round(successful_policies / ccount * 50)} policies were successful.')"
   ]
  }
 ],
 "metadata": {
  "kernelspec": {
   "display_name": "diplomska",
   "language": "python",
   "name": "diplomska"
  },
  "language_info": {
   "codemirror_mode": {
    "name": "ipython",
    "version": 3
   },
   "file_extension": ".py",
   "mimetype": "text/x-python",
   "name": "python",
   "nbconvert_exporter": "python",
   "pygments_lexer": "ipython3",
   "version": "3.8.3"
  }
 },
 "nbformat": 4,
 "nbformat_minor": 4
}
