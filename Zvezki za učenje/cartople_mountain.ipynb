{
 "cells": [
  {
   "cell_type": "markdown",
   "metadata": {
    "colab_type": "text",
    "id": "dERI_8wS8pi4"
   },
   "source": [
    "## Repo setup\n"
   ]
  },
  {
   "cell_type": "code",
   "execution_count": null,
   "metadata": {
    "colab": {},
    "colab_type": "code",
    "id": "lPmP2dG38iyD"
   },
   "outputs": [],
   "source": [
    "import os\n",
    "\n",
    "repo_names = ['gym', 'spinningup']\n",
    "\n",
    "for repo_name in repo_names:\n",
    "  cmd_string = f'git clone https://github.com/AnejSvete/{repo_name}.git'\n",
    "  os.system(cmd_string)"
   ]
  },
  {
   "cell_type": "code",
   "execution_count": null,
   "metadata": {
    "colab": {},
    "colab_type": "code",
    "id": "V7DDJ_kz8qOO"
   },
   "outputs": [],
   "source": [
    "!cd /content/spinningup; pip install -e ."
   ]
  },
  {
   "cell_type": "code",
   "execution_count": null,
   "metadata": {
    "colab": {},
    "colab_type": "code",
    "id": "8_5rK2M5V9_C"
   },
   "outputs": [],
   "source": [
    "!cd /content/gym; pip install -e ."
   ]
  },
  {
   "cell_type": "markdown",
   "metadata": {
    "colab_type": "text",
    "id": "TNXIov9CSIBf"
   },
   "source": [
    "## Init"
   ]
  },
  {
   "cell_type": "code",
   "execution_count": null,
   "metadata": {
    "colab": {},
    "colab_type": "code",
    "id": "p5ZJ5YsWLgX4"
   },
   "outputs": [],
   "source": [
    "!sudo apt-get update && sudo apt-get install libopenmpi-dev"
   ]
  },
  {
   "cell_type": "code",
   "execution_count": null,
   "metadata": {
    "colab": {},
    "colab_type": "code",
    "id": "gWskDE2c9WoN"
   },
   "outputs": [],
   "source": [
    "!apt-get install ffmpeg freeglut3-dev xvfb  # For visualization"
   ]
  },
  {
   "cell_type": "code",
   "execution_count": null,
   "metadata": {
    "colab": {},
    "colab_type": "code",
    "id": "TtwERiOoyXUS"
   },
   "outputs": [],
   "source": [
    "!pip install mpi4py\n",
    "!pip install pynput"
   ]
  },
  {
   "cell_type": "code",
   "execution_count": null,
   "metadata": {
    "cellView": "both",
    "colab": {},
    "colab_type": "code",
    "id": "MPyfQxD5z26J"
   },
   "outputs": [],
   "source": [
    "# Set up fake display; otherwise rendering will fail\n",
    "import os\n",
    "os.system(\"Xvfb :1 -screen 0 1024x768x24 &\")\n",
    "os.environ['DISPLAY'] = ':1'"
   ]
  },
  {
   "cell_type": "markdown",
   "metadata": {
    "colab_type": "text",
    "id": "FtY8FhliLsGm"
   },
   "source": [
    "## Imports"
   ]
  },
  {
   "cell_type": "code",
   "execution_count": null,
   "metadata": {
    "colab": {},
    "colab_type": "code",
    "id": "BIedd7Pz9sOs"
   },
   "outputs": [],
   "source": [
    "import gym\n",
    "import numpy as np"
   ]
  },
  {
   "cell_type": "code",
   "execution_count": null,
   "metadata": {
    "colab": {},
    "colab_type": "code",
    "id": "nACxCIWonzzQ"
   },
   "outputs": [],
   "source": [
    "import os"
   ]
  },
  {
   "cell_type": "code",
   "execution_count": null,
   "metadata": {
    "colab": {},
    "colab_type": "code",
    "id": "KHyXsEq4cqmh"
   },
   "outputs": [],
   "source": [
    "import matplotlib.pyplot as plt\n",
    "%matplotlib inline"
   ]
  },
  {
   "cell_type": "code",
   "execution_count": null,
   "metadata": {
    "colab": {},
    "colab_type": "code",
    "id": "qvbnDwPjxoc7"
   },
   "outputs": [],
   "source": [
    "from sklearn.model_selection import ParameterGrid"
   ]
  },
  {
   "cell_type": "code",
   "execution_count": null,
   "metadata": {
    "colab": {},
    "colab_type": "code",
    "id": "BMTLrFm8CKpg"
   },
   "outputs": [],
   "source": [
    "from spinup import ppo_pytorch as ppo"
   ]
  },
  {
   "cell_type": "code",
   "execution_count": null,
   "metadata": {
    "colab": {},
    "colab_type": "code",
    "id": "dHVxnG_Rnz0o"
   },
   "outputs": [],
   "source": [
    "import tensorflow as tf\n",
    "import torch"
   ]
  },
  {
   "cell_type": "code",
   "execution_count": null,
   "metadata": {
    "colab": {},
    "colab_type": "code",
    "id": "0oJddaB_2ZwD"
   },
   "outputs": [],
   "source": [
    "from spinup.utils.test_policy import load_policy_and_env, run_policy"
   ]
  },
  {
   "cell_type": "markdown",
   "metadata": {
    "colab_type": "text",
    "id": "vHFa2m4towQ9"
   },
   "source": [
    "## Experiment params"
   ]
  },
  {
   "cell_type": "markdown",
   "metadata": {
    "colab_type": "text",
    "id": "WIZUpSvt24m5"
   },
   "source": [
    "#### Parameters"
   ]
  },
  {
   "cell_type": "code",
   "execution_count": null,
   "metadata": {
    "colab": {},
    "colab_type": "code",
    "id": "LvdKUvHyozGS"
   },
   "outputs": [],
   "source": [
    "model_name = 'ppo'\n",
    "\n",
    "epochs = 100\n",
    "\n",
    "ac_kwargs = dict(hidden_sizes=[12, 12])\n",
    "\n",
    "params_dict = dict(\n",
    "    steps_per_epoch=[8000],\n",
    "    gamma=[0.99], \n",
    "    clip_ratio=[0.2], \n",
    "    pi_lr=[0.002],\n",
    "    vf_lr=[0.005],\n",
    "    train_pi_iters=[80], \n",
    "    train_v_iters=[80], \n",
    "    lam=[0.97],\n",
    "    max_ep_len=[250],\n",
    "    target_kl=[0.01],\n",
    "    seed=[164789, 215965, 433506, 521601, 55231, 589871, 64030, 759786, 811127, 970144]\n",
    ")\n",
    "\n",
    "params_grid = ParameterGrid(params_dict)"
   ]
  },
  {
   "cell_type": "code",
   "execution_count": null,
   "metadata": {
    "colab": {},
    "colab_type": "code",
    "id": "blgGgOehA0mu"
   },
   "outputs": [],
   "source": [
    "legend = None\n",
    "xaxis = 'TotalEnvInteracts'\n",
    "value = 'Performance'\n",
    "count = True\n",
    "smooth = 10\n",
    "select = None\n",
    "exclude = None\n",
    "est = 'mean'"
   ]
  },
  {
   "cell_type": "markdown",
   "metadata": {
    "colab_type": "text",
    "id": "r5UoXTZPNdFE"
   },
   "source": [
    "## Train the agent and evaluate it"
   ]
  },
  {
   "cell_type": "code",
   "execution_count": null,
   "metadata": {
    "colab": {},
    "colab_type": "code",
    "id": "4MGfFtsa0u6V"
   },
   "outputs": [],
   "source": [
    "for ii, params in enumerate(params_grid):\n",
    "\n",
    "  legend_name = model_name + \\\n",
    "                    '_plr' + str(params['pi_lr']) + \\\n",
    "                    '_vlr' + str(params['vf_lr']) + \\\n",
    "                    '_g' + str(params['gamma']) + \\\n",
    "                    '_l' + str(params['lam'])\n",
    "\n",
    "  experiment_name = model_name + \\\n",
    "                    '_plr' + str(params['pi_lr']) + \\\n",
    "                    '_vlr' + str(params['vf_lr']) + \\\n",
    "                    '_spe' + str(params['steps_per_epoch']) + \\\n",
    "                    '_gam' + str(params['gamma']) + \\\n",
    "                    '_lam' + str(params['lam']) + \\\n",
    "                    '_tkl' + str(params['target_kl']) + \\\n",
    "                    '_tpi' + str(params['train_pi_iters']) + \\\n",
    "                    '_tvi' + str(params['train_v_iters']) + \\\n",
    "                    '_cr' + str(params['clip_ratio']) + \\\n",
    "                    '_seed' + str(params['seed'])\n",
    "\n",
    "  model_logdir = os.path.join('/content/spinningup/data/mountain', experiment_name)\n",
    "  logger_kwargs = dict(output_dir=model_logdir, exp_name=experiment_name)\n",
    "\n",
    "  env_fn = lambda : gym.make('CartPole-v3', seed=params['seed'])\n",
    "\n",
    "  print(f'On experiment {ii + 1} / {len(params_grid)}.')\n",
    "\n",
    "  ppo(env_fn=env_fn, epochs=epochs, ac_kwargs=ac_kwargs, **params, \n",
    "      eval_episodes=50, required_quality=0.75, logger_kwargs=logger_kwargs)\n",
    "\n",
    "  logdir = [model_logdir]\n",
    "\n",
    "  make_plots(logdir, legend=[legend_name], xaxis=xaxis, values=value, count=count, \n",
    "              smooth=smooth, select=select, exclude=exclude,\n",
    "              estimator=est)"
   ]
  },
  {
   "cell_type": "code",
   "execution_count": null,
   "metadata": {
    "colab": {
     "base_uri": "https://localhost:8080/",
     "height": 1000
    },
    "colab_type": "code",
    "id": "v2i0dHzM2d4g",
    "outputId": "83e09e11-e9e5-432b-a5c4-3d1bee02c962"
   },
   "outputs": [],
   "source": [
    "for ii, params in enumerate(params_grid):\n",
    "\n",
    "  legend_name = model_name + \\\n",
    "                    '_plr' + str(params['pi_lr']) + \\\n",
    "                    '_vlr' + str(params['vf_lr']) + \\\n",
    "                    '_g' + str(params['gamma']) + \\\n",
    "                    '_l' + str(params['lam'])\n",
    "\n",
    "  experiment_name = model_name + \\\n",
    "                    '_plr' + str(params['pi_lr']) + \\\n",
    "                    '_vlr' + str(params['vf_lr']) + \\\n",
    "                    '_spe' + str(params['steps_per_epoch']) + \\\n",
    "                    '_gam' + str(params['gamma']) + \\\n",
    "                    '_lam' + str(params['lam']) + \\\n",
    "                    '_tkl' + str(params['target_kl']) + \\\n",
    "                    '_tpi' + str(params['train_pi_iters']) + \\\n",
    "                    '_tvi' + str(params['train_v_iters']) + \\\n",
    "                    '_cr' + str(params['clip_ratio']) + \\\n",
    "                    '_seed' + str(params['seed'])\n",
    "\n",
    "  model_logdir = os.path.join('/content/spinningup/data/obstacle', experiment_name)\n",
    "  logger_kwargs = dict(output_dir=model_logdir, exp_name=experiment_name)\n",
    "\n",
    "  env_fn = lambda : gym.make('CartPole-v2', seed=params['seed'])\n",
    "\n",
    "  print(f'On evaluation {ii + 1} / {len(params_grid)}.')\n",
    "\n",
    "  env, get_action = load_policy_and_env(model_logdir, 'CartPole-v2',\n",
    "                                        False, 'last', True)\n",
    "  run_policy(env, get_action, 0, 100, False)"
   ]
  },
  {
   "cell_type": "code",
   "execution_count": null,
   "metadata": {
    "colab": {},
    "colab_type": "code",
    "id": "AHJTCYFSGrd6"
   },
   "outputs": [],
   "source": [
    "!zip -r /content/spinningup/data/mountain /content/spinningup/data/mountain"
   ]
  },
  {
   "cell_type": "markdown",
   "metadata": {
    "colab_type": "text",
    "id": "PMcvWy0jqAPd"
   },
   "source": [
    "## Visualization"
   ]
  },
  {
   "cell_type": "code",
   "execution_count": null,
   "metadata": {
    "colab": {
     "base_uri": "https://localhost:8080/",
     "height": 72
    },
    "colab_type": "code",
    "id": "40rxyU2R3_mk",
    "outputId": "1b7ac5f3-af68-4b64-bfac-3487597cdcb4"
   },
   "outputs": [],
   "source": [
    "import seaborn as sns\n",
    "import pandas as pd\n",
    "import matplotlib.pyplot as plt\n",
    "import json\n",
    "import os\n",
    "import os.path as osp\n",
    "import numpy as np\n",
    "\n",
    "DIV_LINE_WIDTH = 50\n",
    "\n",
    "exp_idx = 0\n",
    "units = dict()\n",
    "\n",
    "def plot_data(data, xaxis='Epoch', value=\"AverageEpRet\", condition=\"Condition2\", smooth=1, **kwargs):\n",
    "    if smooth > 1:\n",
    "        y = np.ones(smooth)\n",
    "        for datum in data:\n",
    "            x = np.asarray(datum[value])\n",
    "            z = np.ones(len(x))\n",
    "            smoothed_x = np.convolve(x,y,'same') / np.convolve(z,y,'same')\n",
    "            datum[value] = smoothed_x\n",
    "\n",
    "    if isinstance(data, list):\n",
    "        data = pd.concat(data, ignore_index=True)\n",
    "    sns.set(style=\"darkgrid\", font_scale=1.5)\n",
    "    sns.tsplot(data=data, time=xaxis, value=value, unit=\"Unit\", condition=condition, ci='sd', **kwargs)\n",
    "\n",
    "    print(data.describe(include='all'))\n",
    "    print(data.info())\n",
    "    print(data['Condition1'])\n",
    "    print(data['Condition2'])\n",
    "\n",
    "    plt.legend(loc='best').set_draggable(True)\n",
    "\n",
    "    xscale = np.max(np.asarray(data[xaxis])) > 5e3\n",
    "    if xscale:\n",
    "        plt.ticklabel_format(style='sci', axis='x', scilimits=(0,0))\n",
    "\n",
    "    plt.tight_layout(pad=0.5)\n",
    "\n",
    "def get_datasets(logdir, condition=None):\n",
    "    global exp_idx\n",
    "    global units\n",
    "    datasets = []\n",
    "    for root, _, files in os.walk(logdir):\n",
    "        if 'progress.txt' in files:\n",
    "            exp_name = None\n",
    "            try:\n",
    "                config_path = open(os.path.join(root,'config.json'))\n",
    "                config = json.load(config_path)\n",
    "                if 'exp_name' in config:\n",
    "                    exp_name = config['exp_name']\n",
    "            except:\n",
    "                print('No file named config.json')\n",
    "            condition1 = condition or exp_name or 'exp'\n",
    "            condition2 = condition1 + '-' + str(exp_idx)\n",
    "            exp_idx += 1\n",
    "            if condition1 not in units:\n",
    "                units[condition1] = 0\n",
    "            unit = units[condition1]\n",
    "            units[condition1] += 1\n",
    "\n",
    "            try:\n",
    "                exp_data = pd.read_table(os.path.join(root,'progress.txt'))\n",
    "            except:\n",
    "                print('Could not read from %s'%os.path.join(root,'progress.txt'))\n",
    "                continue\n",
    "            performance = 'AverageTestEpRet' if 'AverageTestEpRet' in exp_data else 'AverageEpRet'\n",
    "            exp_data.insert(len(exp_data.columns),'Unit',unit)\n",
    "            exp_data.insert(len(exp_data.columns),'Condition1',condition1)\n",
    "            exp_data.insert(len(exp_data.columns),'Condition2',condition2)\n",
    "            exp_data.insert(len(exp_data.columns),'Performance',exp_data[performance])\n",
    "            datasets.append(exp_data)\n",
    "    return datasets\n",
    "\n",
    "\n",
    "def get_all_datasets(all_logdirs, legend=None, select=None, exclude=None):\n",
    "\n",
    "    logdirs = []\n",
    "    for logdir in all_logdirs:\n",
    "        if osp.isdir(logdir) and logdir[-1]==os.sep:\n",
    "            logdirs += [logdir]\n",
    "        else:\n",
    "            basedir = osp.dirname(logdir)\n",
    "            fulldir = lambda x : osp.join(basedir, x)\n",
    "            prefix = logdir.split(os.sep)[-1]\n",
    "            listdir= os.listdir(basedir)\n",
    "            logdirs += sorted([fulldir(x) for x in listdir if prefix in x])\n",
    "\n",
    "    if select is not None:\n",
    "        logdirs = [log for log in logdirs if all(x in log for x in select)]\n",
    "    if exclude is not None:\n",
    "        logdirs = [log for log in logdirs if all(not(x in log) for x in exclude)]\n",
    "\n",
    "    # Verify logdirs\n",
    "    print('Plotting from...\\n' + '='*DIV_LINE_WIDTH + '\\n')\n",
    "    for logdir in logdirs:\n",
    "        print(logdir)\n",
    "    print('\\n' + '='*DIV_LINE_WIDTH)\n",
    "\n",
    "    # Make sure the legend is compatible with the logdirs\n",
    "    assert not(legend) or (len(legend) == len(logdirs)), \\\n",
    "        \"Must give a legend title for each set of experiments.\"\n",
    "\n",
    "    # Load data from logdirs\n",
    "    data = []\n",
    "    if legend:\n",
    "        for log, leg in zip(logdirs, legend):\n",
    "            data += get_datasets(log, leg)\n",
    "    else:\n",
    "        for log in logdirs:\n",
    "            data += get_datasets(log)\n",
    "    return data\n",
    "\n",
    "\n",
    "def make_plots(all_logdirs, legend=None, xaxis=None, values=None, count=False,  \n",
    "               font_scale=1.5, smooth=1, select=None, exclude=None, estimator='mean'):\n",
    "    data = get_all_datasets(all_logdirs, legend, select, exclude)\n",
    "    values = values if isinstance(values, list) else [values]\n",
    "    condition = 'Condition2' if count else 'Condition1'\n",
    "    estimator = getattr(np, estimator)      # choose what to show on main curve: mean? max? min?\n",
    "    for value in values:\n",
    "        plt.figure()\n",
    "        plot_data(data, xaxis=xaxis, value=value, condition=condition, smooth=smooth, estimator=estimator)\n",
    "    plt.show()"
   ]
  }
 ],
 "metadata": {
  "accelerator": "GPU",
  "colab": {
   "collapsed_sections": [],
   "name": "spinningup_cartople_mountain_ppo.ipynb",
   "provenance": [],
   "toc_visible": true
  },
  "kernelspec": {
   "display_name": "spinningup",
   "language": "python",
   "name": "spinningup"
  },
  "language_info": {
   "codemirror_mode": {
    "name": "ipython",
    "version": 3
   },
   "file_extension": ".py",
   "mimetype": "text/x-python",
   "name": "python",
   "nbconvert_exporter": "python",
   "pygments_lexer": "ipython3",
   "version": "3.6.10"
  }
 },
 "nbformat": 4,
 "nbformat_minor": 4
}
